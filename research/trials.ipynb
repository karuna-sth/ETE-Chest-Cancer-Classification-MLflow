{
 "cells": [
  {
   "cell_type": "markdown",
   "metadata": {},
   "source": [
    "## Download data from gdrive"
   ]
  },
  {
   "cell_type": "code",
   "execution_count": 1,
   "metadata": {},
   "outputs": [],
   "source": [
    "import gdown"
   ]
  },
  {
   "cell_type": "code",
   "execution_count": 2,
   "metadata": {},
   "outputs": [
    {
     "data": {
      "text/plain": [
       "'1wHY8slF0EDnpW8rveruK0xI9U7LIPaRv'"
      ]
     },
     "execution_count": 2,
     "metadata": {},
     "output_type": "execute_result"
    }
   ],
   "source": [
    "url = \"https://drive.google.com/file/d/1wHY8slF0EDnpW8rveruK0xI9U7LIPaRv/view?usp=sharing\"\n",
    "url_id = url.split(\"/\")[-2]\n",
    "url_id"
   ]
  },
  {
   "cell_type": "code",
   "execution_count": 3,
   "metadata": {},
   "outputs": [],
   "source": [
    "prefix = \"https://drive.google.com/uc?/eport=download&id=\""
   ]
  },
  {
   "cell_type": "code",
   "execution_count": 4,
   "metadata": {},
   "outputs": [
    {
     "name": "stderr",
     "output_type": "stream",
     "text": [
      "Downloading...\n",
      "From (original): https://drive.google.com/uc?/eport=download&id=1wHY8slF0EDnpW8rveruK0xI9U7LIPaRv\n",
      "From (redirected): https://drive.google.com/uc?%2Feport=download&id=1wHY8slF0EDnpW8rveruK0xI9U7LIPaRv&confirm=t&uuid=bbf94bab-a9aa-475f-9379-1571aa459e07\n",
      "To: /home/srak/Documents/pers/end-to-end-chest-cancer/research/Chest-CT-scan-data.zip\n",
      "100%|██████████| 124M/124M [00:15<00:00, 8.26MB/s] \n"
     ]
    },
    {
     "data": {
      "text/plain": [
       "'Chest-CT-scan-data.zip'"
      ]
     },
     "execution_count": 4,
     "metadata": {},
     "output_type": "execute_result"
    }
   ],
   "source": [
    "gdown.download(prefix+url_id, \"Chest-CT-scan-data.zip\")"
   ]
  },
  {
   "cell_type": "code",
   "execution_count": null,
   "metadata": {},
   "outputs": [],
   "source": []
  }
 ],
 "metadata": {
  "kernelspec": {
   "display_name": "chest",
   "language": "python",
   "name": "python3"
  },
  "language_info": {
   "codemirror_mode": {
    "name": "ipython",
    "version": 3
   },
   "file_extension": ".py",
   "mimetype": "text/x-python",
   "name": "python",
   "nbconvert_exporter": "python",
   "pygments_lexer": "ipython3",
   "version": "3.11.9"
  }
 },
 "nbformat": 4,
 "nbformat_minor": 2
}
